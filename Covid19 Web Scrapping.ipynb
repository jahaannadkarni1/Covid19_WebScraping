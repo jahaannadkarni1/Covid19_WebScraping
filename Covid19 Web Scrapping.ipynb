{
 "cells": [
  {
   "cell_type": "code",
   "execution_count": 1,
   "metadata": {},
   "outputs": [],
   "source": [
    "import requests\n",
    "from bs4 import BeautifulSoup as bs\n",
    "import re\n",
    "import pandas as pd"
   ]
  },
  {
   "cell_type": "code",
   "execution_count": 2,
   "metadata": {},
   "outputs": [],
   "source": [
    "# importing a url\n",
    "url = 'https://www.worldometers.info/coronavirus/'\n",
    "\n",
    "r = requests.get(url)\n",
    "\n",
    "soup = bs(r.content,'html.parser')"
   ]
  },
  {
   "cell_type": "code",
   "execution_count": 4,
   "metadata": {},
   "outputs": [],
   "source": [
    "colum = []\n",
    "table = soup.select('table#main_table_countries_today th')\n",
    "for i in table:\n",
    "    colum.append(i.get_text())\n",
    "    "
   ]
  },
  {
   "cell_type": "code",
   "execution_count": 5,
   "metadata": {},
   "outputs": [],
   "source": [
    "row=[]\n",
    "rows = soup.select('table#main_table_countries_today tr')\n",
    "for i in rows:\n",
    "    row.append(i.get_text())"
   ]
  },
  {
   "cell_type": "code",
   "execution_count": 6,
   "metadata": {},
   "outputs": [],
   "source": [
    "new_row = []\n",
    "for x in row:\n",
    "    y = x.replace(\"\\n\", \"$\").replace('+','')\n",
    "    new_row.append(y)\n",
    "    "
   ]
  },
  {
   "cell_type": "code",
   "execution_count": 47,
   "metadata": {},
   "outputs": [
    {
     "data": {
      "text/plain": [
       "['$#$Country,Other$TotalCases$NewCases$TotalDeaths$NewDeaths$TotalRecovered$NewRecovered$ActiveCases$Serious,Critical$Tot\\xa0Cases/1M pop$Deaths/1M pop$TotalTests$Tests/$1M pop$$Population$Continent$1 Caseevery X ppl1 Deathevery X ppl1 Testevery X ppl$',\n",
       " '$$$North America$$12,206,446$105,813$364,503$1,026$7,925,241$45,167$3,916,702$22,185$$$$$$North America$$$$$',\n",
       " '$$$Asia$$14,425,481$94,779$255,352$1,496$12,881,069$92,868$1,289,060$23,041$$$$$$Asia$$$$$',\n",
       " '$$$South America$$9,997,572$29,382$302,482$637$8,934,380$27,059$760,710$17,709$$$$$$South America$$$$$',\n",
       " '$$$Europe$$12,145,761$217,454$292,872$2,326$4,401,570$49,755$7,451,319$27,038$$$$$$Europe$$$$$']"
      ]
     },
     "execution_count": 47,
     "metadata": {},
     "output_type": "execute_result"
    }
   ],
   "source": [
    "new_row[0:5]"
   ]
  },
  {
   "cell_type": "code",
   "execution_count": 46,
   "metadata": {
    "scrolled": true
   },
   "outputs": [
    {
     "name": "stdout",
     "output_type": "stream",
     "text": [
      "[['1', 'USA', '10,278,766', '93,346', '243,731 ', '474', '6,480,552', '36,467', '3,554,483', '18,440', '30,989', '735', '157,450,167', '474,690', '331,690,410 ', 'North America'], ['2', 'India', '8,553,864', '46,661', '126,653 ', '491', '7,915,660', '48,369', '511,551', '8,944', '6,177', '91', '117,736,791', '85,021', '1,384,789,745 ', 'Asia'], ['3', 'Brazil', '5,664,115', '10,554', '162,397 ', '111', '5,064,344', '', '437,374', '8,318', '26,580', '762', '21,900,000', '102,772', '213,094,038 ', 'South America'], ['4', 'France', '1,787,324', '38,619', '40,439 ', '270', '128,614', '676', '1,618,271', '4,539', '27,361', '619', '17,891,276', '273,881', '65,324,901 ', 'Europe'], ['5', 'Russia', '1,774,334', '20,498', '30,537 ', '286', '1,324,419', '11,492', '419,378', '2,300', '12,157', '209', '64,600,000', '442,597', '145,956,770 ', 'Europe']]\n"
     ]
    }
   ],
   "source": [
    "main_row = []\n",
    "bad_rows = []\n",
    "for i in new_row[1:]:\n",
    "    j = i.split(\"$\")\n",
    "    j.pop(0)\n",
    "    j.pop()\n",
    "    j.pop()\n",
    "    if len(j)==16:\n",
    "        main_row.append(j)\n",
    "    else:\n",
    "        bad_rows.append(j)\n",
    "print(main_row[0:5])"
   ]
  },
  {
   "cell_type": "code",
   "execution_count": 9,
   "metadata": {
    "scrolled": true
   },
   "outputs": [
    {
     "data": {
      "text/plain": [
       "[['',\n",
       "  '',\n",
       "  'North America',\n",
       "  '',\n",
       "  '12,206,446',\n",
       "  '105,813',\n",
       "  '364,503',\n",
       "  '1,026',\n",
       "  '7,925,241',\n",
       "  '45,167',\n",
       "  '3,916,702',\n",
       "  '22,185',\n",
       "  '',\n",
       "  '',\n",
       "  '',\n",
       "  '',\n",
       "  '',\n",
       "  'North America',\n",
       "  '',\n",
       "  '',\n",
       "  ''],\n",
       " ['',\n",
       "  '',\n",
       "  'Asia',\n",
       "  '',\n",
       "  '14,425,481',\n",
       "  '94,779',\n",
       "  '255,352',\n",
       "  '1,496',\n",
       "  '12,881,069',\n",
       "  '92,868',\n",
       "  '1,289,060',\n",
       "  '23,041',\n",
       "  '',\n",
       "  '',\n",
       "  '',\n",
       "  '',\n",
       "  '',\n",
       "  'Asia',\n",
       "  '',\n",
       "  '',\n",
       "  ''],\n",
       " ['',\n",
       "  '',\n",
       "  'South America',\n",
       "  '',\n",
       "  '9,997,572',\n",
       "  '29,382',\n",
       "  '302,482',\n",
       "  '637',\n",
       "  '8,934,380',\n",
       "  '27,059',\n",
       "  '760,710',\n",
       "  '17,709',\n",
       "  '',\n",
       "  '',\n",
       "  '',\n",
       "  '',\n",
       "  '',\n",
       "  'South America',\n",
       "  '',\n",
       "  '',\n",
       "  ''],\n",
       " ['',\n",
       "  '',\n",
       "  'Europe',\n",
       "  '',\n",
       "  '12,145,761',\n",
       "  '217,454',\n",
       "  '292,872',\n",
       "  '2,326',\n",
       "  '4,401,570',\n",
       "  '49,755',\n",
       "  '7,451,319',\n",
       "  '27,038',\n",
       "  '',\n",
       "  '',\n",
       "  '',\n",
       "  '',\n",
       "  '',\n",
       "  'Europe',\n",
       "  '',\n",
       "  '',\n",
       "  ''],\n",
       " ['',\n",
       "  '',\n",
       "  'Africa',\n",
       "  '',\n",
       "  '1,893,371',\n",
       "  '12,242',\n",
       "  '45,425',\n",
       "  '229',\n",
       "  '1,594,976',\n",
       "  '9,554',\n",
       "  '252,970',\n",
       "  '2,454',\n",
       "  '',\n",
       "  '',\n",
       "  '',\n",
       "  '',\n",
       "  '',\n",
       "  'Africa',\n",
       "  '',\n",
       "  '',\n",
       "  ''],\n",
       " ['',\n",
       "  '',\n",
       "  'Oceania',\n",
       "  '',\n",
       "  '40,312',\n",
       "  '14',\n",
       "  '980',\n",
       "  '',\n",
       "  '32,851',\n",
       "  '17',\n",
       "  '6,481',\n",
       "  '26',\n",
       "  '',\n",
       "  '',\n",
       "  '',\n",
       "  '',\n",
       "  '',\n",
       "  'Australia/Oceania',\n",
       "  '',\n",
       "  '',\n",
       "  ''],\n",
       " ['',\n",
       "  '',\n",
       "  '',\n",
       "  '',\n",
       "  '721',\n",
       "  '',\n",
       "  '15',\n",
       "  '',\n",
       "  '659',\n",
       "  '',\n",
       "  '47',\n",
       "  '4',\n",
       "  '',\n",
       "  '',\n",
       "  '',\n",
       "  '',\n",
       "  '',\n",
       "  '',\n",
       "  '',\n",
       "  '',\n",
       "  ''],\n",
       " ['',\n",
       "  'World',\n",
       "  '50,709,664',\n",
       "  '459,684',\n",
       "  '1,261,629',\n",
       "  '5,714',\n",
       "  '35,770,746',\n",
       "  '224,420',\n",
       "  '13,677,289',\n",
       "  '92,457',\n",
       "  '6,506',\n",
       "  '161.9',\n",
       "  '',\n",
       "  '',\n",
       "  '',\n",
       "  'All',\n",
       "  '',\n",
       "  '',\n",
       "  ''],\n",
       " ['',\n",
       "  'Total:',\n",
       "  '12,206,446',\n",
       "  '105,813',\n",
       "  '364,503',\n",
       "  '1,026',\n",
       "  '7,925,241',\n",
       "  '45,167',\n",
       "  '3,916,702',\n",
       "  '22,185',\n",
       "  '',\n",
       "  '',\n",
       "  '',\n",
       "  '',\n",
       "  '',\n",
       "  'North America',\n",
       "  ' ',\n",
       "  ''],\n",
       " ['',\n",
       "  'Total:',\n",
       "  '14,425,481',\n",
       "  '94,779',\n",
       "  '255,352',\n",
       "  '1,496',\n",
       "  '12,881,069',\n",
       "  '92,868',\n",
       "  '1,289,060',\n",
       "  '23,041',\n",
       "  '',\n",
       "  '',\n",
       "  '',\n",
       "  '',\n",
       "  '',\n",
       "  'Asia',\n",
       "  ' ',\n",
       "  ''],\n",
       " ['',\n",
       "  'Total:',\n",
       "  '9,997,572',\n",
       "  '29,382',\n",
       "  '302,482',\n",
       "  '637',\n",
       "  '8,934,380',\n",
       "  '27,059',\n",
       "  '760,710',\n",
       "  '17,709',\n",
       "  '',\n",
       "  '',\n",
       "  '',\n",
       "  '',\n",
       "  '',\n",
       "  'South America',\n",
       "  ' ',\n",
       "  ''],\n",
       " ['',\n",
       "  'Total:',\n",
       "  '12,145,761',\n",
       "  '217,454',\n",
       "  '292,872',\n",
       "  '2,326',\n",
       "  '4,401,570',\n",
       "  '49,755',\n",
       "  '7,451,319',\n",
       "  '27,038',\n",
       "  '',\n",
       "  '',\n",
       "  '',\n",
       "  '',\n",
       "  '',\n",
       "  'Europe',\n",
       "  ' ',\n",
       "  ''],\n",
       " ['',\n",
       "  'Total:',\n",
       "  '1,893,371',\n",
       "  '12,242',\n",
       "  '45,425',\n",
       "  '229',\n",
       "  '1,594,976',\n",
       "  '9,554',\n",
       "  '252,970',\n",
       "  '2,454',\n",
       "  '',\n",
       "  '',\n",
       "  '',\n",
       "  '',\n",
       "  '',\n",
       "  'Africa',\n",
       "  ' ',\n",
       "  ''],\n",
       " ['',\n",
       "  'Total:',\n",
       "  '40,312',\n",
       "  '14',\n",
       "  '980',\n",
       "  '',\n",
       "  '32,851',\n",
       "  '',\n",
       "  '6,481',\n",
       "  '26',\n",
       "  '',\n",
       "  '',\n",
       "  '',\n",
       "  '',\n",
       "  '',\n",
       "  'Australia/Oceania',\n",
       "  ' ',\n",
       "  ''],\n",
       " ['',\n",
       "  'Total:',\n",
       "  '721',\n",
       "  '',\n",
       "  '15',\n",
       "  '',\n",
       "  '659',\n",
       "  '',\n",
       "  '47',\n",
       "  '4',\n",
       "  '',\n",
       "  '',\n",
       "  '',\n",
       "  '',\n",
       "  '',\n",
       "  '',\n",
       "  ' ',\n",
       "  ''],\n",
       " ['',\n",
       "  'Total:',\n",
       "  '50,709,664',\n",
       "  '459,684',\n",
       "  '1,261,629',\n",
       "  '5,714',\n",
       "  '35,770,746',\n",
       "  '224,420',\n",
       "  '13,677,289',\n",
       "  '92,457',\n",
       "  '6,505.6',\n",
       "  '161.9',\n",
       "  '',\n",
       "  '',\n",
       "  '',\n",
       "  'All',\n",
       "  '',\n",
       "  '',\n",
       "  '']]"
      ]
     },
     "execution_count": 9,
     "metadata": {},
     "output_type": "execute_result"
    }
   ],
   "source": [
    "bad_rows"
   ]
  },
  {
   "cell_type": "code",
   "execution_count": 10,
   "metadata": {},
   "outputs": [],
   "source": [
    "new_colum =[]\n",
    "for i in colum:\n",
    "    if '\\n' in i:\n",
    "        j = i.replace('\\n',\"\")\n",
    "        new_colum.append(j)\n",
    "    else:\n",
    "        new_colum.append(i)\n",
    "new_colum = new_colum[:-3]"
   ]
  },
  {
   "cell_type": "code",
   "execution_count": 11,
   "metadata": {},
   "outputs": [
    {
     "data": {
      "text/plain": [
       "['#',\n",
       " 'Country,Other',\n",
       " 'TotalCases',\n",
       " 'NewCases',\n",
       " 'TotalDeaths',\n",
       " 'NewDeaths',\n",
       " 'TotalRecovered',\n",
       " 'NewRecovered',\n",
       " 'ActiveCases',\n",
       " 'Serious,Critical',\n",
       " 'Tot\\xa0Cases/1M pop',\n",
       " 'Deaths/1M pop',\n",
       " 'TotalTests',\n",
       " 'Tests/1M pop',\n",
       " 'Population',\n",
       " 'Continent']"
      ]
     },
     "execution_count": 11,
     "metadata": {},
     "output_type": "execute_result"
    }
   ],
   "source": [
    "new_colum"
   ]
  },
  {
   "cell_type": "code",
   "execution_count": 45,
   "metadata": {
    "scrolled": true
   },
   "outputs": [
    {
     "data": {
      "text/plain": [
       "[['1',\n",
       "  'USA',\n",
       "  '10,278,766',\n",
       "  '93,346',\n",
       "  '243,731 ',\n",
       "  '474',\n",
       "  '6,480,552',\n",
       "  '36,467',\n",
       "  '3,554,483',\n",
       "  '18,440',\n",
       "  '30,989',\n",
       "  '735',\n",
       "  '157,450,167',\n",
       "  '474,690',\n",
       "  '331,690,410 ',\n",
       "  'North America'],\n",
       " ['2',\n",
       "  'India',\n",
       "  '8,553,864',\n",
       "  '46,661',\n",
       "  '126,653 ',\n",
       "  '491',\n",
       "  '7,915,660',\n",
       "  '48,369',\n",
       "  '511,551',\n",
       "  '8,944',\n",
       "  '6,177',\n",
       "  '91',\n",
       "  '117,736,791',\n",
       "  '85,021',\n",
       "  '1,384,789,745 ',\n",
       "  'Asia'],\n",
       " ['3',\n",
       "  'Brazil',\n",
       "  '5,664,115',\n",
       "  '10,554',\n",
       "  '162,397 ',\n",
       "  '111',\n",
       "  '5,064,344',\n",
       "  '',\n",
       "  '437,374',\n",
       "  '8,318',\n",
       "  '26,580',\n",
       "  '762',\n",
       "  '21,900,000',\n",
       "  '102,772',\n",
       "  '213,094,038 ',\n",
       "  'South America'],\n",
       " ['4',\n",
       "  'France',\n",
       "  '1,787,324',\n",
       "  '38,619',\n",
       "  '40,439 ',\n",
       "  '270',\n",
       "  '128,614',\n",
       "  '676',\n",
       "  '1,618,271',\n",
       "  '4,539',\n",
       "  '27,361',\n",
       "  '619',\n",
       "  '17,891,276',\n",
       "  '273,881',\n",
       "  '65,324,901 ',\n",
       "  'Europe'],\n",
       " ['5',\n",
       "  'Russia',\n",
       "  '1,774,334',\n",
       "  '20,498',\n",
       "  '30,537 ',\n",
       "  '286',\n",
       "  '1,324,419',\n",
       "  '11,492',\n",
       "  '419,378',\n",
       "  '2,300',\n",
       "  '12,157',\n",
       "  '209',\n",
       "  '64,600,000',\n",
       "  '442,597',\n",
       "  '145,956,770 ',\n",
       "  'Europe']]"
      ]
     },
     "execution_count": 45,
     "metadata": {},
     "output_type": "execute_result"
    }
   ],
   "source": [
    "main_row[0:5]"
   ]
  },
  {
   "cell_type": "code",
   "execution_count": 13,
   "metadata": {},
   "outputs": [],
   "source": [
    "df = pd.DataFrame(data=main_row,columns=new_colum)"
   ]
  },
  {
   "cell_type": "code",
   "execution_count": 43,
   "metadata": {},
   "outputs": [
    {
     "data": {
      "text/html": [
       "<div>\n",
       "<style scoped>\n",
       "    .dataframe tbody tr th:only-of-type {\n",
       "        vertical-align: middle;\n",
       "    }\n",
       "\n",
       "    .dataframe tbody tr th {\n",
       "        vertical-align: top;\n",
       "    }\n",
       "\n",
       "    .dataframe thead th {\n",
       "        text-align: right;\n",
       "    }\n",
       "</style>\n",
       "<table border=\"1\" class=\"dataframe\">\n",
       "  <thead>\n",
       "    <tr style=\"text-align: right;\">\n",
       "      <th></th>\n",
       "      <th>#</th>\n",
       "      <th>Country,Other</th>\n",
       "      <th>TotalCases</th>\n",
       "      <th>NewCases</th>\n",
       "      <th>TotalDeaths</th>\n",
       "      <th>NewDeaths</th>\n",
       "      <th>TotalRecovered</th>\n",
       "      <th>NewRecovered</th>\n",
       "      <th>ActiveCases</th>\n",
       "      <th>Serious,Critical</th>\n",
       "      <th>Tot Cases/1M pop</th>\n",
       "      <th>Deaths/1M pop</th>\n",
       "      <th>TotalTests</th>\n",
       "      <th>Tests/1M pop</th>\n",
       "      <th>Population</th>\n",
       "      <th>Continent</th>\n",
       "    </tr>\n",
       "  </thead>\n",
       "  <tbody>\n",
       "    <tr>\n",
       "      <th>0</th>\n",
       "      <td>1</td>\n",
       "      <td>USA</td>\n",
       "      <td>10,278,766</td>\n",
       "      <td>93,346</td>\n",
       "      <td>243,731</td>\n",
       "      <td>474</td>\n",
       "      <td>6,480,552</td>\n",
       "      <td>36,467</td>\n",
       "      <td>3,554,483</td>\n",
       "      <td>18,440</td>\n",
       "      <td>30,989</td>\n",
       "      <td>735</td>\n",
       "      <td>157,450,167</td>\n",
       "      <td>474,690</td>\n",
       "      <td>331,690,410</td>\n",
       "      <td>North America</td>\n",
       "    </tr>\n",
       "    <tr>\n",
       "      <th>1</th>\n",
       "      <td>2</td>\n",
       "      <td>India</td>\n",
       "      <td>8,553,864</td>\n",
       "      <td>46,661</td>\n",
       "      <td>126,653</td>\n",
       "      <td>491</td>\n",
       "      <td>7,915,660</td>\n",
       "      <td>48,369</td>\n",
       "      <td>511,551</td>\n",
       "      <td>8,944</td>\n",
       "      <td>6,177</td>\n",
       "      <td>91</td>\n",
       "      <td>117,736,791</td>\n",
       "      <td>85,021</td>\n",
       "      <td>1,384,789,745</td>\n",
       "      <td>Asia</td>\n",
       "    </tr>\n",
       "    <tr>\n",
       "      <th>2</th>\n",
       "      <td>3</td>\n",
       "      <td>Brazil</td>\n",
       "      <td>5,664,115</td>\n",
       "      <td>10,554</td>\n",
       "      <td>162,397</td>\n",
       "      <td>111</td>\n",
       "      <td>5,064,344</td>\n",
       "      <td></td>\n",
       "      <td>437,374</td>\n",
       "      <td>8,318</td>\n",
       "      <td>26,580</td>\n",
       "      <td>762</td>\n",
       "      <td>21,900,000</td>\n",
       "      <td>102,772</td>\n",
       "      <td>213,094,038</td>\n",
       "      <td>South America</td>\n",
       "    </tr>\n",
       "    <tr>\n",
       "      <th>3</th>\n",
       "      <td>4</td>\n",
       "      <td>France</td>\n",
       "      <td>1,787,324</td>\n",
       "      <td>38,619</td>\n",
       "      <td>40,439</td>\n",
       "      <td>270</td>\n",
       "      <td>128,614</td>\n",
       "      <td>676</td>\n",
       "      <td>1,618,271</td>\n",
       "      <td>4,539</td>\n",
       "      <td>27,361</td>\n",
       "      <td>619</td>\n",
       "      <td>17,891,276</td>\n",
       "      <td>273,881</td>\n",
       "      <td>65,324,901</td>\n",
       "      <td>Europe</td>\n",
       "    </tr>\n",
       "    <tr>\n",
       "      <th>4</th>\n",
       "      <td>5</td>\n",
       "      <td>Russia</td>\n",
       "      <td>1,774,334</td>\n",
       "      <td>20,498</td>\n",
       "      <td>30,537</td>\n",
       "      <td>286</td>\n",
       "      <td>1,324,419</td>\n",
       "      <td>11,492</td>\n",
       "      <td>419,378</td>\n",
       "      <td>2,300</td>\n",
       "      <td>12,157</td>\n",
       "      <td>209</td>\n",
       "      <td>64,600,000</td>\n",
       "      <td>442,597</td>\n",
       "      <td>145,956,770</td>\n",
       "      <td>Europe</td>\n",
       "    </tr>\n",
       "    <tr>\n",
       "      <th>...</th>\n",
       "      <td>...</td>\n",
       "      <td>...</td>\n",
       "      <td>...</td>\n",
       "      <td>...</td>\n",
       "      <td>...</td>\n",
       "      <td>...</td>\n",
       "      <td>...</td>\n",
       "      <td>...</td>\n",
       "      <td>...</td>\n",
       "      <td>...</td>\n",
       "      <td>...</td>\n",
       "      <td>...</td>\n",
       "      <td>...</td>\n",
       "      <td>...</td>\n",
       "      <td>...</td>\n",
       "      <td>...</td>\n",
       "    </tr>\n",
       "    <tr>\n",
       "      <th>213</th>\n",
       "      <td>214</td>\n",
       "      <td>MS Zaandam</td>\n",
       "      <td>9</td>\n",
       "      <td></td>\n",
       "      <td>2</td>\n",
       "      <td></td>\n",
       "      <td></td>\n",
       "      <td></td>\n",
       "      <td>7</td>\n",
       "      <td></td>\n",
       "      <td></td>\n",
       "      <td></td>\n",
       "      <td></td>\n",
       "      <td></td>\n",
       "      <td></td>\n",
       "      <td></td>\n",
       "    </tr>\n",
       "    <tr>\n",
       "      <th>214</th>\n",
       "      <td>215</td>\n",
       "      <td>Anguilla</td>\n",
       "      <td>3</td>\n",
       "      <td></td>\n",
       "      <td></td>\n",
       "      <td></td>\n",
       "      <td>3</td>\n",
       "      <td></td>\n",
       "      <td>0</td>\n",
       "      <td></td>\n",
       "      <td>199</td>\n",
       "      <td></td>\n",
       "      <td>1,820</td>\n",
       "      <td>120,930</td>\n",
       "      <td>15,050</td>\n",
       "      <td>North America</td>\n",
       "    </tr>\n",
       "    <tr>\n",
       "      <th>215</th>\n",
       "      <td>216</td>\n",
       "      <td>Marshall Islands</td>\n",
       "      <td>1</td>\n",
       "      <td></td>\n",
       "      <td></td>\n",
       "      <td></td>\n",
       "      <td></td>\n",
       "      <td></td>\n",
       "      <td>1</td>\n",
       "      <td></td>\n",
       "      <td>17</td>\n",
       "      <td></td>\n",
       "      <td></td>\n",
       "      <td></td>\n",
       "      <td>59,331</td>\n",
       "      <td>Australia/Oceania</td>\n",
       "    </tr>\n",
       "    <tr>\n",
       "      <th>216</th>\n",
       "      <td>217</td>\n",
       "      <td>Wallis and Futuna</td>\n",
       "      <td>1</td>\n",
       "      <td></td>\n",
       "      <td></td>\n",
       "      <td></td>\n",
       "      <td>1</td>\n",
       "      <td></td>\n",
       "      <td>0</td>\n",
       "      <td></td>\n",
       "      <td>90</td>\n",
       "      <td></td>\n",
       "      <td>1,149</td>\n",
       "      <td>102,892</td>\n",
       "      <td>11,167</td>\n",
       "      <td>Australia/Oceania</td>\n",
       "    </tr>\n",
       "    <tr>\n",
       "      <th>217</th>\n",
       "      <td>218</td>\n",
       "      <td>China</td>\n",
       "      <td>86,212</td>\n",
       "      <td>28</td>\n",
       "      <td>4,634</td>\n",
       "      <td></td>\n",
       "      <td>81,168</td>\n",
       "      <td>37</td>\n",
       "      <td>410</td>\n",
       "      <td>7</td>\n",
       "      <td>60</td>\n",
       "      <td>3</td>\n",
       "      <td>160,000,000</td>\n",
       "      <td>111,163</td>\n",
       "      <td>1,439,323,776</td>\n",
       "      <td>Asia</td>\n",
       "    </tr>\n",
       "  </tbody>\n",
       "</table>\n",
       "<p>218 rows × 16 columns</p>\n",
       "</div>"
      ],
      "text/plain": [
       "       #      Country,Other  TotalCases NewCases TotalDeaths NewDeaths  \\\n",
       "0      1                USA  10,278,766   93,346    243,731        474   \n",
       "1      2              India   8,553,864   46,661    126,653        491   \n",
       "2      3             Brazil   5,664,115   10,554    162,397        111   \n",
       "3      4             France   1,787,324   38,619     40,439        270   \n",
       "4      5             Russia   1,774,334   20,498     30,537        286   \n",
       "..   ...                ...         ...      ...         ...       ...   \n",
       "213  214         MS Zaandam           9                   2              \n",
       "214  215           Anguilla           3                                  \n",
       "215  216   Marshall Islands           1                                  \n",
       "216  217  Wallis and Futuna           1                                  \n",
       "217  218              China      86,212       28      4,634              \n",
       "\n",
       "    TotalRecovered NewRecovered ActiveCases Serious,Critical Tot Cases/1M pop  \\\n",
       "0        6,480,552       36,467   3,554,483           18,440           30,989   \n",
       "1        7,915,660       48,369     511,551            8,944            6,177   \n",
       "2        5,064,344                  437,374            8,318           26,580   \n",
       "3          128,614          676   1,618,271            4,539           27,361   \n",
       "4        1,324,419       11,492     419,378            2,300           12,157   \n",
       "..             ...          ...         ...              ...              ...   \n",
       "213                                       7                                     \n",
       "214              3                        0                               199   \n",
       "215                                       1                                17   \n",
       "216              1                        0                                90   \n",
       "217         81,168           37         410                7               60   \n",
       "\n",
       "    Deaths/1M pop   TotalTests Tests/1M pop      Population          Continent  \n",
       "0             735  157,450,167      474,690    331,690,410       North America  \n",
       "1              91  117,736,791       85,021  1,384,789,745                Asia  \n",
       "2             762   21,900,000      102,772    213,094,038       South America  \n",
       "3             619   17,891,276      273,881     65,324,901              Europe  \n",
       "4             209   64,600,000      442,597    145,956,770              Europe  \n",
       "..            ...          ...          ...             ...                ...  \n",
       "213                                                                             \n",
       "214                      1,820      120,930         15,050       North America  \n",
       "215                                                 59,331   Australia/Oceania  \n",
       "216                      1,149      102,892         11,167   Australia/Oceania  \n",
       "217             3  160,000,000      111,163  1,439,323,776                Asia  \n",
       "\n",
       "[218 rows x 16 columns]"
      ]
     },
     "execution_count": 43,
     "metadata": {},
     "output_type": "execute_result"
    }
   ],
   "source": [
    "df"
   ]
  },
  {
   "cell_type": "code",
   "execution_count": null,
   "metadata": {},
   "outputs": [],
   "source": []
  },
  {
   "cell_type": "markdown",
   "metadata": {},
   "source": [
    "### Further code for creating visualization for GUI"
   ]
  },
  {
   "cell_type": "code",
   "execution_count": 14,
   "metadata": {
    "scrolled": true
   },
   "outputs": [
    {
     "data": {
      "text/plain": [
       "Index(['#', 'Country,Other', 'TotalCases', 'NewCases', 'TotalDeaths',\n",
       "       'NewDeaths', 'TotalRecovered', 'NewRecovered', 'ActiveCases',\n",
       "       'Serious,Critical', 'Tot Cases/1M pop', 'Deaths/1M pop', 'TotalTests',\n",
       "       'Tests/1M pop', 'Population', 'Continent'],\n",
       "      dtype='object')"
      ]
     },
     "execution_count": 14,
     "metadata": {},
     "output_type": "execute_result"
    }
   ],
   "source": [
    "df.columns"
   ]
  },
  {
   "cell_type": "code",
   "execution_count": 16,
   "metadata": {},
   "outputs": [
    {
     "data": {
      "text/plain": [
       "['1',\n",
       " 'USA',\n",
       " '10,278,766',\n",
       " '93,346',\n",
       " '243,731 ',\n",
       " '474',\n",
       " '6,480,552',\n",
       " '36,467',\n",
       " '3,554,483',\n",
       " '18,440',\n",
       " '30,989',\n",
       " '735',\n",
       " '157,450,167',\n",
       " '474,690',\n",
       " '331,690,410 ',\n",
       " 'North America']"
      ]
     },
     "execution_count": 16,
     "metadata": {},
     "output_type": "execute_result"
    }
   ],
   "source": [
    "df.loc[df['Country,Other']=='USA'].values.reshape(-1,).tolist()"
   ]
  },
  {
   "cell_type": "code",
   "execution_count": 17,
   "metadata": {},
   "outputs": [],
   "source": [
    "new_t = pd.DataFrame(index=df.loc[df['Country,Other']=='USA'].columns)"
   ]
  },
  {
   "cell_type": "code",
   "execution_count": 18,
   "metadata": {},
   "outputs": [],
   "source": [
    "new_t['Values'] = df.loc[df['Country,Other']=='USA'].values.reshape(-1,).tolist()"
   ]
  },
  {
   "cell_type": "code",
   "execution_count": 19,
   "metadata": {},
   "outputs": [
    {
     "data": {
      "text/plain": [
       "Index(['#', 'Country,Other', 'TotalCases', 'NewCases', 'TotalDeaths',\n",
       "       'NewDeaths', 'TotalRecovered', 'NewRecovered', 'ActiveCases',\n",
       "       'Serious,Critical', 'Tot Cases/1M pop', 'Deaths/1M pop', 'TotalTests',\n",
       "       'Tests/1M pop', 'Population', 'Continent'],\n",
       "      dtype='object')"
      ]
     },
     "execution_count": 19,
     "metadata": {},
     "output_type": "execute_result"
    }
   ],
   "source": [
    "new_t.index"
   ]
  },
  {
   "cell_type": "code",
   "execution_count": 20,
   "metadata": {},
   "outputs": [
    {
     "data": {
      "text/plain": [
       "'10,278,766'"
      ]
     },
     "execution_count": 20,
     "metadata": {},
     "output_type": "execute_result"
    }
   ],
   "source": [
    "new_t.Values['TotalCases']"
   ]
  },
  {
   "cell_type": "code",
   "execution_count": 21,
   "metadata": {},
   "outputs": [],
   "source": [
    "import matplotlib.pyplot as plt"
   ]
  },
  {
   "cell_type": "code",
   "execution_count": 22,
   "metadata": {},
   "outputs": [
    {
     "data": {
      "text/plain": [
       "array([0. , 0.2, 0.4, 0.6, 0.8])"
      ]
     },
     "execution_count": 22,
     "metadata": {},
     "output_type": "execute_result"
    }
   ],
   "source": [
    "import numpy as np\n",
    "np.arange(0, 1, step=0.2)"
   ]
  },
  {
   "cell_type": "code",
   "execution_count": 42,
   "metadata": {
    "scrolled": false
   },
   "outputs": [
    {
     "data": {
      "image/png": "[encoded data removed]",
      "text/plain": [
       "<Figure size 432x504 with 1 Axes>"
      ]
     },
     "metadata": {
      "needs_background": "light"
     },
     "output_type": "display_data"
    }
   ],
   "source": [
    "viz_colum = ['TotalCases','TotalDeaths', 'TotalRecovered', 'ActiveCases','TotalTests','Population']\n",
    "viz_dict = {i:new_t['Values'][i] for i in viz_colum}\n",
    "viz_plot = {j:''.join([i.replace(',','') for i in viz_dict[j]]).strip() for j in viz_dict}\n",
    "viz_plot = {j:int(viz_plot[j]) for j in viz_plot}\n",
    "yticker = [0,50,100,150,200,250,300]\n",
    "    \n",
    "\n",
    "plt.figure(figsize=(6,7))\n",
    "for i in viz_plot:\n",
    "    plt.bar(i,viz_plot[i])\n",
    "\n",
    "# plt.ylim(0,max(viz_plot.values()))\n",
    "plt.xticks(rotation = '65')   \n",
    "# plt.yticks(np.arange(7),str(yticker))\n",
    "plt.ylabel('Frequency (in 100M)')\n",
    "plt.show()"
   ]
  },
  {
   "cell_type": "code",
   "execution_count": 25,
   "metadata": {},
   "outputs": [
    {
     "data": {
      "text/plain": [
       "{'TotalCases': 10278766,\n",
       " 'TotalDeaths': 243731,\n",
       " 'TotalRecovered': 6480552,\n",
       " 'ActiveCases': 3554483,\n",
       " 'TotalTests': 157450167,\n",
       " 'Population': 331690410}"
      ]
     },
     "execution_count": 25,
     "metadata": {},
     "output_type": "execute_result"
    }
   ],
   "source": [
    "{j:int(viz_plot[j]) for j in viz_plot}"
   ]
  },
  {
   "cell_type": "code",
   "execution_count": 26,
   "metadata": {},
   "outputs": [
    {
     "data": {
      "text/plain": [
       "{'TotalCases': '10,278,766',\n",
       " 'TotalDeaths': '243,731 ',\n",
       " 'TotalRecovered': '6,480,552',\n",
       " 'ActiveCases': '3,554,483',\n",
       " 'TotalTests': '157,450,167',\n",
       " 'Population': '331,690,410 '}"
      ]
     },
     "execution_count": 26,
     "metadata": {},
     "output_type": "execute_result"
    }
   ],
   "source": [
    "viz_dict = {i:new_t['Values'][i] for i in viz_colum}\n",
    "viz_dict"
   ]
  },
  {
   "cell_type": "code",
   "execution_count": 28,
   "metadata": {},
   "outputs": [
    {
     "data": {
      "text/plain": [
       "{'TotalCases': '10,278,766',\n",
       " 'TotalDeaths': '243,731 ',\n",
       " 'TotalRecovered': '6,480,552',\n",
       " 'ActiveCases': '3,554,483',\n",
       " 'TotalTests': '157,450,167',\n",
       " 'Population': '331,690,410 '}"
      ]
     },
     "execution_count": 28,
     "metadata": {},
     "output_type": "execute_result"
    }
   ],
   "source": [
    "viz_dict"
   ]
  },
  {
   "cell_type": "code",
   "execution_count": null,
   "metadata": {},
   "outputs": [],
   "source": []
  },
  {
   "cell_type": "code",
   "execution_count": 31,
   "metadata": {},
   "outputs": [
    {
     "data": {
      "text/plain": [
       "dict_values(['10,278,766', '243,731 ', '6,480,552', '3,554,483', '157,450,167', '331,690,410 '])"
      ]
     },
     "execution_count": 31,
     "metadata": {},
     "output_type": "execute_result"
    }
   ],
   "source": [
    "viz_dict.values()"
   ]
  },
  {
   "cell_type": "code",
   "execution_count": 32,
   "metadata": {},
   "outputs": [],
   "source": [
    "TotalCases:new_t['Values']['TotalCases']"
   ]
  },
  {
   "cell_type": "code",
   "execution_count": 33,
   "metadata": {},
   "outputs": [
    {
     "data": {
      "text/plain": [
       "{'TotalCases': '10,278,766',\n",
       " 'TotalDeaths': '243,731 ',\n",
       " 'TotalRecovered': '6,480,552',\n",
       " 'ActiveCases': '3,554,483',\n",
       " 'TotalTests': '157,450,167',\n",
       " 'Population': '331,690,410 '}"
      ]
     },
     "execution_count": 33,
     "metadata": {},
     "output_type": "execute_result"
    }
   ],
   "source": [
    "{i:new_t['Values'][i] for i in viz_colum}"
   ]
  },
  {
   "cell_type": "code",
   "execution_count": 35,
   "metadata": {},
   "outputs": [],
   "source": [
    "for i in viz_dict:\n",
    "    viz_dict[i].replace(',','')"
   ]
  },
  {
   "cell_type": "code",
   "execution_count": 36,
   "metadata": {},
   "outputs": [
    {
     "data": {
      "text/plain": [
       "{'TotalCases': '10278766',\n",
       " 'TotalDeaths': '243731',\n",
       " 'TotalRecovered': '6480552',\n",
       " 'ActiveCases': '3554483',\n",
       " 'TotalTests': '157450167',\n",
       " 'Population': '331690410'}"
      ]
     },
     "execution_count": 36,
     "metadata": {},
     "output_type": "execute_result"
    }
   ],
   "source": [
    "{j:''.join([i.replace(',','') for i in viz_dict[j]]).strip() for j in viz_dict}"
   ]
  },
  {
   "cell_type": "code",
   "execution_count": null,
   "metadata": {},
   "outputs": [],
   "source": []
  }
 ],
 "metadata": {
  "kernelspec": {
   "display_name": "Python 3",
   "language": "python",
   "name": "python3"
  },
  "language_info": {
   "codemirror_mode": {
    "name": "ipython",
    "version": 3
   },
   "file_extension": ".py",
   "mimetype": "text/x-python",
   "name": "python",
   "nbconvert_exporter": "python",
   "pygments_lexer": "ipython3",
   "version": "3.8.3"
  }
 },
 "nbformat": 4,
 "nbformat_minor": 4
}
